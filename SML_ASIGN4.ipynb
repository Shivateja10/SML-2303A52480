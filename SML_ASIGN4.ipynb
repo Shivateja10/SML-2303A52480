{
  "nbformat": 4,
  "nbformat_minor": 0,
  "metadata": {
    "colab": {
      "provenance": [],
      "authorship_tag": "ABX9TyOugQEFIG2r9wxxnXWBacgh",
      "include_colab_link": true
    },
    "kernelspec": {
      "name": "python3",
      "display_name": "Python 3"
    },
    "language_info": {
      "name": "python"
    }
  },
  "cells": [
    {
      "cell_type": "markdown",
      "metadata": {
        "id": "view-in-github",
        "colab_type": "text"
      },
      "source": [
        "<a href=\"https://colab.research.google.com/github/Shivateja10/SML-2303A52480/blob/main/SML_ASIGN4.ipynb\" target=\"_parent\"><img src=\"https://colab.research.google.com/assets/colab-badge.svg\" alt=\"Open In Colab\"/></a>"
      ]
    },
    {
      "cell_type": "code",
      "execution_count": 34,
      "metadata": {
        "colab": {
          "base_uri": "https://localhost:8080/"
        },
        "outputId": "999536e0-14ff-4176-eda1-e08faee0823e",
        "id": "cG1NfMdjRKUg"
      },
      "outputs": [
        {
          "output_type": "stream",
          "name": "stdout",
          "text": [
            "      battery_power  blue  clock_speed  dual_sim  fc  four_g  int_memory  \\\n",
            "0               842     0          2.2         0   1       0           7   \n",
            "1              1021     1          0.5         1   0       1          53   \n",
            "2               563     1          0.5         1   2       1          41   \n",
            "3               615     1          2.5         0   0       0          10   \n",
            "4              1821     1          1.2         0  13       1          44   \n",
            "...             ...   ...          ...       ...  ..     ...         ...   \n",
            "1995            794     1          0.5         1   0       1           2   \n",
            "1996           1965     1          2.6         1   0       0          39   \n",
            "1997           1911     0          0.9         1   1       1          36   \n",
            "1998           1512     0          0.9         0   4       1          46   \n",
            "1999            510     1          2.0         1   5       1          45   \n",
            "\n",
            "      m_dep  mobile_wt  n_cores  ...  px_height  px_width   ram  sc_h  sc_w  \\\n",
            "0       0.6        188        2  ...         20       756  2549     9     7   \n",
            "1       0.7        136        3  ...        905      1988  2631    17     3   \n",
            "2       0.9        145        5  ...       1263      1716  2603    11     2   \n",
            "3       0.8        131        6  ...       1216      1786  2769    16     8   \n",
            "4       0.6        141        2  ...       1208      1212  1411     8     2   \n",
            "...     ...        ...      ...  ...        ...       ...   ...   ...   ...   \n",
            "1995    0.8        106        6  ...       1222      1890   668    13     4   \n",
            "1996    0.2        187        4  ...        915      1965  2032    11    10   \n",
            "1997    0.7        108        8  ...        868      1632  3057     9     1   \n",
            "1998    0.1        145        5  ...        336       670   869    18    10   \n",
            "1999    0.9        168        6  ...        483       754  3919    19     4   \n",
            "\n",
            "      talk_time  three_g  touch_screen  wifi  price_range  \n",
            "0            19        0             0     1            1  \n",
            "1             7        1             1     0            2  \n",
            "2             9        1             1     0            2  \n",
            "3            11        1             0     0            2  \n",
            "4            15        1             1     0            1  \n",
            "...         ...      ...           ...   ...          ...  \n",
            "1995         19        1             1     0            0  \n",
            "1996         16        1             1     1            2  \n",
            "1997          5        1             1     0            3  \n",
            "1998         19        1             1     1            0  \n",
            "1999          2        1             1     1            3  \n",
            "\n",
            "[2000 rows x 21 columns]\n"
          ]
        }
      ],
      "source": [
        "#Question1\n",
        "#reading the data\n",
        "import pandas as pd\n",
        "dis=pd.read_csv(\"/content/train.csv\")\n",
        "print(dis)"
      ]
    },
    {
      "cell_type": "code",
      "source": [
        "#find target variable\n",
        "y = dis['price_range']\n",
        "print(y)"
      ],
      "metadata": {
        "colab": {
          "base_uri": "https://localhost:8080/"
        },
        "id": "j8ImB-ZUUfel",
        "outputId": "98a48944-4e75-4d60-bef6-0b879538628d"
      },
      "execution_count": 35,
      "outputs": [
        {
          "output_type": "stream",
          "name": "stdout",
          "text": [
            "0       1\n",
            "1       2\n",
            "2       2\n",
            "3       2\n",
            "4       1\n",
            "       ..\n",
            "1995    0\n",
            "1996    2\n",
            "1997    3\n",
            "1998    0\n",
            "1999    3\n",
            "Name: price_range, Length: 2000, dtype: int64\n"
          ]
        }
      ]
    },
    {
      "cell_type": "code",
      "source": [
        "#find features\n",
        "x = dis.drop('price_range', axis=1)\n",
        "print(x)"
      ],
      "metadata": {
        "colab": {
          "base_uri": "https://localhost:8080/"
        },
        "id": "Qp2W8P-qVaZ3",
        "outputId": "461880c8-2a9c-465d-f5a9-5a30b102aabe"
      },
      "execution_count": 36,
      "outputs": [
        {
          "output_type": "stream",
          "name": "stdout",
          "text": [
            "      battery_power  blue  clock_speed  dual_sim  fc  four_g  int_memory  \\\n",
            "0               842     0          2.2         0   1       0           7   \n",
            "1              1021     1          0.5         1   0       1          53   \n",
            "2               563     1          0.5         1   2       1          41   \n",
            "3               615     1          2.5         0   0       0          10   \n",
            "4              1821     1          1.2         0  13       1          44   \n",
            "...             ...   ...          ...       ...  ..     ...         ...   \n",
            "1995            794     1          0.5         1   0       1           2   \n",
            "1996           1965     1          2.6         1   0       0          39   \n",
            "1997           1911     0          0.9         1   1       1          36   \n",
            "1998           1512     0          0.9         0   4       1          46   \n",
            "1999            510     1          2.0         1   5       1          45   \n",
            "\n",
            "      m_dep  mobile_wt  n_cores  pc  px_height  px_width   ram  sc_h  sc_w  \\\n",
            "0       0.6        188        2   2         20       756  2549     9     7   \n",
            "1       0.7        136        3   6        905      1988  2631    17     3   \n",
            "2       0.9        145        5   6       1263      1716  2603    11     2   \n",
            "3       0.8        131        6   9       1216      1786  2769    16     8   \n",
            "4       0.6        141        2  14       1208      1212  1411     8     2   \n",
            "...     ...        ...      ...  ..        ...       ...   ...   ...   ...   \n",
            "1995    0.8        106        6  14       1222      1890   668    13     4   \n",
            "1996    0.2        187        4   3        915      1965  2032    11    10   \n",
            "1997    0.7        108        8   3        868      1632  3057     9     1   \n",
            "1998    0.1        145        5   5        336       670   869    18    10   \n",
            "1999    0.9        168        6  16        483       754  3919    19     4   \n",
            "\n",
            "      talk_time  three_g  touch_screen  wifi  \n",
            "0            19        0             0     1  \n",
            "1             7        1             1     0  \n",
            "2             9        1             1     0  \n",
            "3            11        1             0     0  \n",
            "4            15        1             1     0  \n",
            "...         ...      ...           ...   ...  \n",
            "1995         19        1             1     0  \n",
            "1996         16        1             1     1  \n",
            "1997          5        1             1     0  \n",
            "1998         19        1             1     1  \n",
            "1999          2        1             1     1  \n",
            "\n",
            "[2000 rows x 20 columns]\n"
          ]
        }
      ]
    },
    {
      "cell_type": "code",
      "source": [
        "#normalization using min-max scaling\n",
        "xx = (x-x.min()) // (x.max() - x.min())\n",
        "print(xx)"
      ],
      "metadata": {
        "colab": {
          "base_uri": "https://localhost:8080/"
        },
        "id": "BtWh0xwxWvVJ",
        "outputId": "3bc2708d-529f-4009-9766-2269e0c18abb"
      },
      "execution_count": 37,
      "outputs": [
        {
          "output_type": "stream",
          "name": "stdout",
          "text": [
            "      battery_power  blue  clock_speed  dual_sim   fc  four_g  int_memory  \\\n",
            "0               0.0   0.0          0.0       0.0  0.0     0.0         0.0   \n",
            "1               0.0   1.0          0.0       1.0  0.0     1.0         0.0   \n",
            "2               0.0   1.0          0.0       1.0  0.0     1.0         0.0   \n",
            "3               0.0   1.0          0.0       0.0  0.0     0.0         0.0   \n",
            "4               0.0   1.0          0.0       0.0  0.0     1.0         0.0   \n",
            "...             ...   ...          ...       ...  ...     ...         ...   \n",
            "1995            0.0   1.0          0.0       1.0  0.0     1.0         0.0   \n",
            "1996            0.0   1.0          0.0       1.0  0.0     0.0         0.0   \n",
            "1997            0.0   0.0          0.0       1.0  0.0     1.0         0.0   \n",
            "1998            0.0   0.0          0.0       0.0  0.0     1.0         0.0   \n",
            "1999            0.0   1.0          0.0       1.0  0.0     1.0         0.0   \n",
            "\n",
            "      m_dep  mobile_wt  n_cores   pc  px_height  px_width  ram  sc_h  sc_w  \\\n",
            "0       0.0        0.0      0.0  0.0        0.0       0.0  0.0   0.0   0.0   \n",
            "1       0.0        0.0      0.0  0.0        0.0       0.0  0.0   0.0   0.0   \n",
            "2       0.0        0.0      0.0  0.0        0.0       0.0  0.0   0.0   0.0   \n",
            "3       0.0        0.0      0.0  0.0        0.0       0.0  0.0   0.0   0.0   \n",
            "4       0.0        0.0      0.0  0.0        0.0       0.0  0.0   0.0   0.0   \n",
            "...     ...        ...      ...  ...        ...       ...  ...   ...   ...   \n",
            "1995    0.0        0.0      0.0  0.0        0.0       0.0  0.0   0.0   0.0   \n",
            "1996    0.0        0.0      0.0  0.0        0.0       0.0  0.0   0.0   0.0   \n",
            "1997    0.0        0.0      1.0  0.0        0.0       0.0  0.0   0.0   0.0   \n",
            "1998    0.0        0.0      0.0  0.0        0.0       0.0  0.0   0.0   0.0   \n",
            "1999    0.0        0.0      0.0  0.0        0.0       0.0  0.0   1.0   0.0   \n",
            "\n",
            "      talk_time  three_g  touch_screen  wifi  \n",
            "0           0.0      0.0           0.0   1.0  \n",
            "1           0.0      1.0           1.0   0.0  \n",
            "2           0.0      1.0           1.0   0.0  \n",
            "3           0.0      1.0           0.0   0.0  \n",
            "4           0.0      1.0           1.0   0.0  \n",
            "...         ...      ...           ...   ...  \n",
            "1995        0.0      1.0           1.0   0.0  \n",
            "1996        0.0      1.0           1.0   1.0  \n",
            "1997        0.0      1.0           1.0   0.0  \n",
            "1998        0.0      1.0           1.0   1.0  \n",
            "1999        0.0      1.0           1.0   1.0  \n",
            "\n",
            "[2000 rows x 20 columns]\n"
          ]
        }
      ]
    },
    {
      "cell_type": "code",
      "source": [
        "#splitting of data into train and test\n",
        "from sklearn.model_selection import train_test_split\n",
        "x_train, x_test, y_train, y_test = train_test_split(xx, y, test_size=0.2, random_state=30)"
      ],
      "metadata": {
        "id": "CZmJLu05az_v"
      },
      "execution_count": 38,
      "outputs": []
    },
    {
      "cell_type": "code",
      "source": [
        "print(x_train)\n",
        "print(x_test)\n",
        "print(y_train)\n",
        "print(y_test)"
      ],
      "metadata": {
        "colab": {
          "base_uri": "https://localhost:8080/"
        },
        "id": "AAqvbuEzcTJF",
        "outputId": "4f223ccb-e8c2-4df2-eef2-7d9ea6a31ae8"
      },
      "execution_count": 39,
      "outputs": [
        {
          "output_type": "stream",
          "name": "stdout",
          "text": [
            "      battery_power  blue  clock_speed  dual_sim   fc  four_g  int_memory  \\\n",
            "1572            0.0   0.0          0.0       1.0  0.0     0.0         0.0   \n",
            "1442            0.0   0.0          0.0       1.0  0.0     0.0         0.0   \n",
            "1516            0.0   1.0          0.0       1.0  0.0     1.0         0.0   \n",
            "259             0.0   1.0          0.0       1.0  0.0     1.0         0.0   \n",
            "945             0.0   0.0          0.0       0.0  0.0     1.0         0.0   \n",
            "...             ...   ...          ...       ...  ...     ...         ...   \n",
            "500             0.0   1.0          0.0       1.0  0.0     0.0         0.0   \n",
            "1837            0.0   0.0          0.0       1.0  0.0     1.0         0.0   \n",
            "941             0.0   0.0          0.0       1.0  0.0     1.0         0.0   \n",
            "421             0.0   0.0          0.0       1.0  0.0     0.0         0.0   \n",
            "1829            0.0   0.0          0.0       1.0  0.0     1.0         0.0   \n",
            "\n",
            "      m_dep  mobile_wt  n_cores   pc  px_height  px_width  ram  sc_h  sc_w  \\\n",
            "1572    0.0        0.0      1.0  0.0        0.0       0.0  0.0   0.0   0.0   \n",
            "1442    0.0        0.0      0.0  0.0        0.0       0.0  0.0   0.0   0.0   \n",
            "1516    0.0        0.0      0.0  0.0        0.0       0.0  0.0   0.0   0.0   \n",
            "259     0.0        0.0      0.0  0.0        0.0       0.0  0.0   0.0   0.0   \n",
            "945     0.0        0.0      0.0  0.0        0.0       0.0  0.0   0.0   0.0   \n",
            "...     ...        ...      ...  ...        ...       ...  ...   ...   ...   \n",
            "500     0.0        0.0      1.0  0.0        0.0       0.0  0.0   0.0   0.0   \n",
            "1837    0.0        0.0      0.0  0.0        0.0       0.0  0.0   0.0   0.0   \n",
            "941     0.0        0.0      0.0  0.0        0.0       0.0  0.0   1.0   0.0   \n",
            "421     0.0        0.0      0.0  0.0        0.0       0.0  0.0   0.0   0.0   \n",
            "1829    0.0        0.0      0.0  0.0        0.0       0.0  0.0   0.0   0.0   \n",
            "\n",
            "      talk_time  three_g  touch_screen  wifi  \n",
            "1572        0.0      0.0           0.0   1.0  \n",
            "1442        0.0      0.0           1.0   0.0  \n",
            "1516        0.0      1.0           0.0   0.0  \n",
            "259         0.0      1.0           1.0   1.0  \n",
            "945         0.0      1.0           1.0   0.0  \n",
            "...         ...      ...           ...   ...  \n",
            "500         1.0      0.0           0.0   1.0  \n",
            "1837        0.0      1.0           0.0   1.0  \n",
            "941         0.0      1.0           0.0   0.0  \n",
            "421         0.0      1.0           1.0   0.0  \n",
            "1829        0.0      1.0           0.0   0.0  \n",
            "\n",
            "[1600 rows x 20 columns]\n",
            "      battery_power  blue  clock_speed  dual_sim   fc  four_g  int_memory  \\\n",
            "1856            0.0   0.0          0.0       0.0  0.0     0.0         0.0   \n",
            "364             0.0   1.0          0.0       0.0  0.0     0.0         0.0   \n",
            "1948            0.0   0.0          0.0       0.0  0.0     0.0         0.0   \n",
            "1458            0.0   0.0          0.0       0.0  0.0     1.0         0.0   \n",
            "609             0.0   0.0          0.0       0.0  0.0     1.0         0.0   \n",
            "...             ...   ...          ...       ...  ...     ...         ...   \n",
            "1163            0.0   1.0          0.0       0.0  0.0     0.0         0.0   \n",
            "572             0.0   1.0          0.0       0.0  0.0     1.0         0.0   \n",
            "1105            0.0   1.0          0.0       1.0  0.0     0.0         0.0   \n",
            "1903            0.0   1.0          0.0       0.0  0.0     0.0         0.0   \n",
            "481             0.0   1.0          0.0       0.0  0.0     1.0         0.0   \n",
            "\n",
            "      m_dep  mobile_wt  n_cores   pc  px_height  px_width  ram  sc_h  sc_w  \\\n",
            "1856    1.0        0.0      0.0  0.0        0.0       0.0  0.0   0.0   0.0   \n",
            "364     0.0        0.0      0.0  0.0        0.0       0.0  0.0   0.0   0.0   \n",
            "1948    1.0        0.0      0.0  0.0        0.0       0.0  0.0   0.0   0.0   \n",
            "1458    0.0        0.0      0.0  1.0        0.0       0.0  0.0   0.0   0.0   \n",
            "609     0.0        0.0      0.0  0.0        0.0       0.0  0.0   0.0   0.0   \n",
            "...     ...        ...      ...  ...        ...       ...  ...   ...   ...   \n",
            "1163    0.0        0.0      1.0  0.0        0.0       0.0  0.0   0.0   0.0   \n",
            "572     0.0        0.0      0.0  0.0        0.0       0.0  0.0   0.0   0.0   \n",
            "1105    0.0        0.0      0.0  0.0        0.0       0.0  0.0   0.0   0.0   \n",
            "1903    1.0        0.0      0.0  0.0        0.0       0.0  0.0   0.0   0.0   \n",
            "481     0.0        0.0      0.0  0.0        0.0       0.0  0.0   0.0   0.0   \n",
            "\n",
            "      talk_time  three_g  touch_screen  wifi  \n",
            "1856        0.0      1.0           0.0   0.0  \n",
            "364         0.0      0.0           1.0   0.0  \n",
            "1948        0.0      0.0           1.0   1.0  \n",
            "1458        0.0      1.0           0.0   0.0  \n",
            "609         0.0      1.0           1.0   1.0  \n",
            "...         ...      ...           ...   ...  \n",
            "1163        0.0      0.0           0.0   1.0  \n",
            "572         0.0      1.0           1.0   0.0  \n",
            "1105        0.0      0.0           0.0   0.0  \n",
            "1903        0.0      0.0           0.0   1.0  \n",
            "481         0.0      1.0           1.0   0.0  \n",
            "\n",
            "[400 rows x 20 columns]\n",
            "1572    2\n",
            "1442    1\n",
            "1516    1\n",
            "259     3\n",
            "945     3\n",
            "       ..\n",
            "500     0\n",
            "1837    1\n",
            "941     0\n",
            "421     2\n",
            "1829    0\n",
            "Name: price_range, Length: 1600, dtype: int64\n",
            "1856    3\n",
            "364     0\n",
            "1948    1\n",
            "1458    1\n",
            "609     2\n",
            "       ..\n",
            "1163    2\n",
            "572     3\n",
            "1105    0\n",
            "1903    2\n",
            "481     3\n",
            "Name: price_range, Length: 400, dtype: int64\n"
          ]
        }
      ]
    },
    {
      "cell_type": "code",
      "source": [
        "#Question2\n",
        "#reading the data\n",
        "import pandas as pd\n",
        "dis=pd.read_csv(\"/content/housing.csv\")\n",
        "print(dis)"
      ],
      "metadata": {
        "colab": {
          "base_uri": "https://localhost:8080/"
        },
        "id": "r4cWgtfQdJeI",
        "outputId": "618ffab9-50f5-48bf-d1ea-e20f63c08e1d"
      },
      "execution_count": 40,
      "outputs": [
        {
          "output_type": "stream",
          "name": "stdout",
          "text": [
            "       longitude  latitude  housing_median_age  total_rooms  total_bedrooms  \\\n",
            "0        -122.23     37.88                41.0        880.0           129.0   \n",
            "1        -122.22     37.86                21.0       7099.0          1106.0   \n",
            "2        -122.24     37.85                52.0       1467.0           190.0   \n",
            "3        -122.25     37.85                52.0       1274.0           235.0   \n",
            "4        -122.25     37.85                52.0       1627.0           280.0   \n",
            "...          ...       ...                 ...          ...             ...   \n",
            "20635    -121.09     39.48                25.0       1665.0           374.0   \n",
            "20636    -121.21     39.49                18.0        697.0           150.0   \n",
            "20637    -121.22     39.43                17.0       2254.0           485.0   \n",
            "20638    -121.32     39.43                18.0       1860.0           409.0   \n",
            "20639    -121.24     39.37                16.0       2785.0           616.0   \n",
            "\n",
            "       population  households  median_income  median_house_value  \\\n",
            "0           322.0       126.0         8.3252            452600.0   \n",
            "1          2401.0      1138.0         8.3014            358500.0   \n",
            "2           496.0       177.0         7.2574            352100.0   \n",
            "3           558.0       219.0         5.6431            341300.0   \n",
            "4           565.0       259.0         3.8462            342200.0   \n",
            "...           ...         ...            ...                 ...   \n",
            "20635       845.0       330.0         1.5603             78100.0   \n",
            "20636       356.0       114.0         2.5568             77100.0   \n",
            "20637      1007.0       433.0         1.7000             92300.0   \n",
            "20638       741.0       349.0         1.8672             84700.0   \n",
            "20639      1387.0       530.0         2.3886             89400.0   \n",
            "\n",
            "      ocean_proximity  \n",
            "0            NEAR BAY  \n",
            "1            NEAR BAY  \n",
            "2            NEAR BAY  \n",
            "3            NEAR BAY  \n",
            "4            NEAR BAY  \n",
            "...               ...  \n",
            "20635          INLAND  \n",
            "20636          INLAND  \n",
            "20637          INLAND  \n",
            "20638          INLAND  \n",
            "20639          INLAND  \n",
            "\n",
            "[20640 rows x 10 columns]\n"
          ]
        }
      ]
    },
    {
      "cell_type": "code",
      "source": [
        "#target variable\n",
        "y = dis['ocean_proximity']\n",
        "print(y)\n",
        "print(y.shape)\n",
        "print(y.dtype)"
      ],
      "metadata": {
        "colab": {
          "base_uri": "https://localhost:8080/"
        },
        "id": "1b-GiRE2hV-G",
        "outputId": "8dd34385-d0f9-484d-a0a1-55fb4113af0d"
      },
      "execution_count": 46,
      "outputs": [
        {
          "output_type": "stream",
          "name": "stdout",
          "text": [
            "0        NEAR BAY\n",
            "1        NEAR BAY\n",
            "2        NEAR BAY\n",
            "3        NEAR BAY\n",
            "4        NEAR BAY\n",
            "           ...   \n",
            "20635      INLAND\n",
            "20636      INLAND\n",
            "20637      INLAND\n",
            "20638      INLAND\n",
            "20639      INLAND\n",
            "Name: ocean_proximity, Length: 20640, dtype: object\n",
            "(20640,)\n",
            "object\n"
          ]
        }
      ]
    },
    {
      "cell_type": "code",
      "source": [
        "#features\n",
        "x = dis.drop('ocean_proximity', axis=1)\n",
        "print(x)"
      ],
      "metadata": {
        "colab": {
          "base_uri": "https://localhost:8080/"
        },
        "id": "uEKQIb6Bhmt5",
        "outputId": "f0ef918f-73da-47bd-fd9f-a7c5475b088e"
      },
      "execution_count": 44,
      "outputs": [
        {
          "output_type": "stream",
          "name": "stdout",
          "text": [
            "       longitude  latitude  housing_median_age  total_rooms  total_bedrooms  \\\n",
            "0        -122.23     37.88                41.0        880.0           129.0   \n",
            "1        -122.22     37.86                21.0       7099.0          1106.0   \n",
            "2        -122.24     37.85                52.0       1467.0           190.0   \n",
            "3        -122.25     37.85                52.0       1274.0           235.0   \n",
            "4        -122.25     37.85                52.0       1627.0           280.0   \n",
            "...          ...       ...                 ...          ...             ...   \n",
            "20635    -121.09     39.48                25.0       1665.0           374.0   \n",
            "20636    -121.21     39.49                18.0        697.0           150.0   \n",
            "20637    -121.22     39.43                17.0       2254.0           485.0   \n",
            "20638    -121.32     39.43                18.0       1860.0           409.0   \n",
            "20639    -121.24     39.37                16.0       2785.0           616.0   \n",
            "\n",
            "       population  households  median_income  median_house_value  \n",
            "0           322.0       126.0         8.3252            452600.0  \n",
            "1          2401.0      1138.0         8.3014            358500.0  \n",
            "2           496.0       177.0         7.2574            352100.0  \n",
            "3           558.0       219.0         5.6431            341300.0  \n",
            "4           565.0       259.0         3.8462            342200.0  \n",
            "...           ...         ...            ...                 ...  \n",
            "20635       845.0       330.0         1.5603             78100.0  \n",
            "20636       356.0       114.0         2.5568             77100.0  \n",
            "20637      1007.0       433.0         1.7000             92300.0  \n",
            "20638       741.0       349.0         1.8672             84700.0  \n",
            "20639      1387.0       530.0         2.3886             89400.0  \n",
            "\n",
            "[20640 rows x 9 columns]\n"
          ]
        }
      ]
    },
    {
      "cell_type": "code",
      "source": [
        "#normalization\n",
        "xx = (x-x.min()) // (x.max() - x.min())\n",
        "print(xx)"
      ],
      "metadata": {
        "colab": {
          "base_uri": "https://localhost:8080/"
        },
        "id": "cd1CZ46Pi62o",
        "outputId": "efc3d737-8619-4dff-c25b-cce3a9f635eb"
      },
      "execution_count": 45,
      "outputs": [
        {
          "output_type": "stream",
          "name": "stdout",
          "text": [
            "       longitude  latitude  housing_median_age  total_rooms  total_bedrooms  \\\n",
            "0            0.0       0.0                 0.0          0.0             0.0   \n",
            "1            0.0       0.0                 0.0          0.0             0.0   \n",
            "2            0.0       0.0                 1.0          0.0             0.0   \n",
            "3            0.0       0.0                 1.0          0.0             0.0   \n",
            "4            0.0       0.0                 1.0          0.0             0.0   \n",
            "...          ...       ...                 ...          ...             ...   \n",
            "20635        0.0       0.0                 0.0          0.0             0.0   \n",
            "20636        0.0       0.0                 0.0          0.0             0.0   \n",
            "20637        0.0       0.0                 0.0          0.0             0.0   \n",
            "20638        0.0       0.0                 0.0          0.0             0.0   \n",
            "20639        0.0       0.0                 0.0          0.0             0.0   \n",
            "\n",
            "       population  households  median_income  median_house_value  \n",
            "0             0.0         0.0            0.0                 0.0  \n",
            "1             0.0         0.0            0.0                 0.0  \n",
            "2             0.0         0.0            0.0                 0.0  \n",
            "3             0.0         0.0            0.0                 0.0  \n",
            "4             0.0         0.0            0.0                 0.0  \n",
            "...           ...         ...            ...                 ...  \n",
            "20635         0.0         0.0            0.0                 0.0  \n",
            "20636         0.0         0.0            0.0                 0.0  \n",
            "20637         0.0         0.0            0.0                 0.0  \n",
            "20638         0.0         0.0            0.0                 0.0  \n",
            "20639         0.0         0.0            0.0                 0.0  \n",
            "\n",
            "[20640 rows x 9 columns]\n"
          ]
        }
      ]
    },
    {
      "cell_type": "code",
      "source": [
        "#splitting of data into train and test\n",
        "from sklearn.model_selection import train_test_split\n",
        "x_train, x_test, y_train, y_test = train_test_split(xx, y, test_size=0.2, random_state=30)"
      ],
      "metadata": {
        "id": "7hz_b2j3lf-o"
      },
      "execution_count": 47,
      "outputs": []
    },
    {
      "cell_type": "code",
      "source": [
        "print(x_train)\n",
        "print(x_test)\n",
        "print(y_train)\n",
        "print(y_test)"
      ],
      "metadata": {
        "colab": {
          "base_uri": "https://localhost:8080/"
        },
        "id": "n1fJ88mzlhRA",
        "outputId": "4433d6ee-48a3-455b-9beb-e3419498d6dd"
      },
      "execution_count": 48,
      "outputs": [
        {
          "output_type": "stream",
          "name": "stdout",
          "text": [
            "       longitude  latitude  housing_median_age  total_rooms  total_bedrooms  \\\n",
            "7186         0.0       0.0                 0.0          0.0             0.0   \n",
            "7686         0.0       0.0                 0.0          0.0             0.0   \n",
            "6332         0.0       0.0                 0.0          0.0             0.0   \n",
            "14192        0.0       0.0                 0.0          0.0             0.0   \n",
            "6611         0.0       0.0                 1.0          0.0             0.0   \n",
            "...          ...       ...                 ...          ...             ...   \n",
            "500          0.0       0.0                 1.0          0.0             0.0   \n",
            "12077        0.0       0.0                 0.0          0.0             0.0   \n",
            "15277        0.0       0.0                 0.0          0.0             0.0   \n",
            "4517         0.0       0.0                 0.0          0.0             0.0   \n",
            "5925         0.0       0.0                 0.0          0.0             0.0   \n",
            "\n",
            "       population  households  median_income  median_house_value  \n",
            "7186          0.0         0.0            0.0                 0.0  \n",
            "7686          0.0         0.0            0.0                 0.0  \n",
            "6332          0.0         0.0            0.0                 0.0  \n",
            "14192         0.0         0.0            0.0                 0.0  \n",
            "6611          0.0         0.0            0.0                 0.0  \n",
            "...           ...         ...            ...                 ...  \n",
            "500           0.0         0.0            0.0                 0.0  \n",
            "12077         0.0         0.0            0.0                 0.0  \n",
            "15277         0.0         0.0            0.0                 0.0  \n",
            "4517          0.0         0.0            0.0                 0.0  \n",
            "5925          0.0         0.0            0.0                 0.0  \n",
            "\n",
            "[16512 rows x 9 columns]\n",
            "       longitude  latitude  housing_median_age  total_rooms  total_bedrooms  \\\n",
            "19449        0.0       0.0                 0.0          0.0             0.0   \n",
            "10452        0.0       0.0                 0.0          0.0             0.0   \n",
            "18982        0.0       0.0                 0.0          0.0             0.0   \n",
            "8187         0.0       0.0                 0.0          0.0             0.0   \n",
            "15759        0.0       0.0                 1.0          0.0             0.0   \n",
            "...          ...       ...                 ...          ...             ...   \n",
            "12704        0.0       0.0                 0.0          0.0             0.0   \n",
            "18742        0.0       0.0                 0.0          0.0             0.0   \n",
            "19142        0.0       0.0                 0.0          0.0             0.0   \n",
            "1027         0.0       0.0                 0.0          0.0             0.0   \n",
            "17830        0.0       0.0                 0.0          0.0             0.0   \n",
            "\n",
            "       population  households  median_income  median_house_value  \n",
            "19449         0.0         0.0            0.0                 0.0  \n",
            "10452         0.0         0.0            0.0                 0.0  \n",
            "18982         0.0         0.0            0.0                 0.0  \n",
            "8187          0.0         0.0            0.0                 1.0  \n",
            "15759         0.0         0.0            0.0                 0.0  \n",
            "...           ...         ...            ...                 ...  \n",
            "12704         0.0         0.0            0.0                 0.0  \n",
            "18742         0.0         0.0            0.0                 0.0  \n",
            "19142         0.0         0.0            0.0                 0.0  \n",
            "1027          0.0         0.0            0.0                 0.0  \n",
            "17830         0.0         0.0            0.0                 0.0  \n",
            "\n",
            "[4128 rows x 9 columns]\n",
            "7186      <1H OCEAN\n",
            "7686      <1H OCEAN\n",
            "6332      <1H OCEAN\n",
            "14192    NEAR OCEAN\n",
            "6611         INLAND\n",
            "            ...    \n",
            "500        NEAR BAY\n",
            "12077     <1H OCEAN\n",
            "15277    NEAR OCEAN\n",
            "4517      <1H OCEAN\n",
            "5925         INLAND\n",
            "Name: ocean_proximity, Length: 16512, dtype: object\n",
            "19449       INLAND\n",
            "10452    <1H OCEAN\n",
            "18982       INLAND\n",
            "8187     <1H OCEAN\n",
            "15759     NEAR BAY\n",
            "           ...    \n",
            "12704       INLAND\n",
            "18742       INLAND\n",
            "19142    <1H OCEAN\n",
            "1027        INLAND\n",
            "17830    <1H OCEAN\n",
            "Name: ocean_proximity, Length: 4128, dtype: object\n"
          ]
        }
      ]
    }
  ]
}