{
  "nbformat": 4,
  "nbformat_minor": 0,
  "metadata": {
    "colab": {
      "provenance": [],
      "authorship_tag": "ABX9TyOAx80iDXVXjpSuyQc+/ivt",
      "include_colab_link": true
    },
    "kernelspec": {
      "name": "python3",
      "display_name": "Python 3"
    },
    "language_info": {
      "name": "python"
    }
  },
  "cells": [
    {
      "cell_type": "markdown",
      "metadata": {
        "id": "view-in-github",
        "colab_type": "text"
      },
      "source": [
        "<a href=\"https://colab.research.google.com/github/Shivateja10/SML-2303A52480/blob/main/SML_ASIGN4_q1.ipynb\" target=\"_parent\"><img src=\"https://colab.research.google.com/assets/colab-badge.svg\" alt=\"Open In Colab\"/></a>"
      ]
    },
    {
      "cell_type": "code",
      "execution_count": 4,
      "metadata": {
        "colab": {
          "base_uri": "https://localhost:8080/"
        },
        "outputId": "90a3000e-deb6-4b74-b6d1-382fd91ae25e",
        "id": "cG1NfMdjRKUg"
      },
      "outputs": [
        {
          "output_type": "stream",
          "name": "stdout",
          "text": [
            "      battery_power  blue  clock_speed  dual_sim  fc  four_g  int_memory  \\\n",
            "0               842     0          2.2         0   1       0           7   \n",
            "1              1021     1          0.5         1   0       1          53   \n",
            "2               563     1          0.5         1   2       1          41   \n",
            "3               615     1          2.5         0   0       0          10   \n",
            "4              1821     1          1.2         0  13       1          44   \n",
            "...             ...   ...          ...       ...  ..     ...         ...   \n",
            "1995            794     1          0.5         1   0       1           2   \n",
            "1996           1965     1          2.6         1   0       0          39   \n",
            "1997           1911     0          0.9         1   1       1          36   \n",
            "1998           1512     0          0.9         0   4       1          46   \n",
            "1999            510     1          2.0         1   5       1          45   \n",
            "\n",
            "      m_dep  mobile_wt  n_cores  ...  px_height  px_width   ram  sc_h  sc_w  \\\n",
            "0       0.6        188        2  ...         20       756  2549     9     7   \n",
            "1       0.7        136        3  ...        905      1988  2631    17     3   \n",
            "2       0.9        145        5  ...       1263      1716  2603    11     2   \n",
            "3       0.8        131        6  ...       1216      1786  2769    16     8   \n",
            "4       0.6        141        2  ...       1208      1212  1411     8     2   \n",
            "...     ...        ...      ...  ...        ...       ...   ...   ...   ...   \n",
            "1995    0.8        106        6  ...       1222      1890   668    13     4   \n",
            "1996    0.2        187        4  ...        915      1965  2032    11    10   \n",
            "1997    0.7        108        8  ...        868      1632  3057     9     1   \n",
            "1998    0.1        145        5  ...        336       670   869    18    10   \n",
            "1999    0.9        168        6  ...        483       754  3919    19     4   \n",
            "\n",
            "      talk_time  three_g  touch_screen  wifi  price_range  \n",
            "0            19        0             0     1            1  \n",
            "1             7        1             1     0            2  \n",
            "2             9        1             1     0            2  \n",
            "3            11        1             0     0            2  \n",
            "4            15        1             1     0            1  \n",
            "...         ...      ...           ...   ...          ...  \n",
            "1995         19        1             1     0            0  \n",
            "1996         16        1             1     1            2  \n",
            "1997          5        1             1     0            3  \n",
            "1998         19        1             1     1            0  \n",
            "1999          2        1             1     1            3  \n",
            "\n",
            "[2000 rows x 21 columns]\n"
          ]
        }
      ],
      "source": [
        "import pandas as pd\n",
        "dis=pd.read_csv(\"/content/train.csv\")\n",
        "print(dis)"
      ]
    },
    {
      "cell_type": "code",
      "source": [
        "y = dis['price_range']\n",
        "print(y)"
      ],
      "metadata": {
        "colab": {
          "base_uri": "https://localhost:8080/"
        },
        "id": "j8ImB-ZUUfel",
        "outputId": "0ad39bb8-a5b8-4f73-f658-586cf2220995"
      },
      "execution_count": 5,
      "outputs": [
        {
          "output_type": "stream",
          "name": "stdout",
          "text": [
            "0       1\n",
            "1       2\n",
            "2       2\n",
            "3       2\n",
            "4       1\n",
            "       ..\n",
            "1995    0\n",
            "1996    2\n",
            "1997    3\n",
            "1998    0\n",
            "1999    3\n",
            "Name: price_range, Length: 2000, dtype: int64\n"
          ]
        }
      ]
    },
    {
      "cell_type": "code",
      "source": [
        "x = dis.drop('price_range', axis=1)\n",
        "print(x)"
      ],
      "metadata": {
        "colab": {
          "base_uri": "https://localhost:8080/"
        },
        "id": "Qp2W8P-qVaZ3",
        "outputId": "f17e553d-9288-4d10-f654-2a119da927a2"
      },
      "execution_count": 9,
      "outputs": [
        {
          "output_type": "stream",
          "name": "stdout",
          "text": [
            "      battery_power  blue  clock_speed  dual_sim  fc  four_g  int_memory  \\\n",
            "0               842     0          2.2         0   1       0           7   \n",
            "1              1021     1          0.5         1   0       1          53   \n",
            "2               563     1          0.5         1   2       1          41   \n",
            "3               615     1          2.5         0   0       0          10   \n",
            "4              1821     1          1.2         0  13       1          44   \n",
            "...             ...   ...          ...       ...  ..     ...         ...   \n",
            "1995            794     1          0.5         1   0       1           2   \n",
            "1996           1965     1          2.6         1   0       0          39   \n",
            "1997           1911     0          0.9         1   1       1          36   \n",
            "1998           1512     0          0.9         0   4       1          46   \n",
            "1999            510     1          2.0         1   5       1          45   \n",
            "\n",
            "      m_dep  mobile_wt  n_cores  pc  px_height  px_width   ram  sc_h  sc_w  \\\n",
            "0       0.6        188        2   2         20       756  2549     9     7   \n",
            "1       0.7        136        3   6        905      1988  2631    17     3   \n",
            "2       0.9        145        5   6       1263      1716  2603    11     2   \n",
            "3       0.8        131        6   9       1216      1786  2769    16     8   \n",
            "4       0.6        141        2  14       1208      1212  1411     8     2   \n",
            "...     ...        ...      ...  ..        ...       ...   ...   ...   ...   \n",
            "1995    0.8        106        6  14       1222      1890   668    13     4   \n",
            "1996    0.2        187        4   3        915      1965  2032    11    10   \n",
            "1997    0.7        108        8   3        868      1632  3057     9     1   \n",
            "1998    0.1        145        5   5        336       670   869    18    10   \n",
            "1999    0.9        168        6  16        483       754  3919    19     4   \n",
            "\n",
            "      talk_time  three_g  touch_screen  wifi  \n",
            "0            19        0             0     1  \n",
            "1             7        1             1     0  \n",
            "2             9        1             1     0  \n",
            "3            11        1             0     0  \n",
            "4            15        1             1     0  \n",
            "...         ...      ...           ...   ...  \n",
            "1995         19        1             1     0  \n",
            "1996         16        1             1     1  \n",
            "1997          5        1             1     0  \n",
            "1998         19        1             1     1  \n",
            "1999          2        1             1     1  \n",
            "\n",
            "[2000 rows x 20 columns]\n"
          ]
        }
      ]
    },
    {
      "cell_type": "code",
      "source": [
        "xx = (x-x.min()) // (x.max() - x.min())\n",
        "print(xx)"
      ],
      "metadata": {
        "colab": {
          "base_uri": "https://localhost:8080/"
        },
        "id": "BtWh0xwxWvVJ",
        "outputId": "5d980998-b813-4491-f00f-c35541fc75fd"
      },
      "execution_count": 27,
      "outputs": [
        {
          "output_type": "stream",
          "name": "stdout",
          "text": [
            "      battery_power  blue  clock_speed  dual_sim   fc  four_g  int_memory  \\\n",
            "0               0.0   0.0          0.0       0.0  0.0     0.0         0.0   \n",
            "1               0.0   1.0          0.0       1.0  0.0     1.0         0.0   \n",
            "2               0.0   1.0          0.0       1.0  0.0     1.0         0.0   \n",
            "3               0.0   1.0          0.0       0.0  0.0     0.0         0.0   \n",
            "4               0.0   1.0          0.0       0.0  0.0     1.0         0.0   \n",
            "...             ...   ...          ...       ...  ...     ...         ...   \n",
            "1995            0.0   1.0          0.0       1.0  0.0     1.0         0.0   \n",
            "1996            0.0   1.0          0.0       1.0  0.0     0.0         0.0   \n",
            "1997            0.0   0.0          0.0       1.0  0.0     1.0         0.0   \n",
            "1998            0.0   0.0          0.0       0.0  0.0     1.0         0.0   \n",
            "1999            0.0   1.0          0.0       1.0  0.0     1.0         0.0   \n",
            "\n",
            "      m_dep  mobile_wt  n_cores   pc  px_height  px_width  ram  sc_h  sc_w  \\\n",
            "0       0.0        0.0      0.0  0.0        0.0       0.0  0.0   0.0   0.0   \n",
            "1       0.0        0.0      0.0  0.0        0.0       0.0  0.0   0.0   0.0   \n",
            "2       0.0        0.0      0.0  0.0        0.0       0.0  0.0   0.0   0.0   \n",
            "3       0.0        0.0      0.0  0.0        0.0       0.0  0.0   0.0   0.0   \n",
            "4       0.0        0.0      0.0  0.0        0.0       0.0  0.0   0.0   0.0   \n",
            "...     ...        ...      ...  ...        ...       ...  ...   ...   ...   \n",
            "1995    0.0        0.0      0.0  0.0        0.0       0.0  0.0   0.0   0.0   \n",
            "1996    0.0        0.0      0.0  0.0        0.0       0.0  0.0   0.0   0.0   \n",
            "1997    0.0        0.0      1.0  0.0        0.0       0.0  0.0   0.0   0.0   \n",
            "1998    0.0        0.0      0.0  0.0        0.0       0.0  0.0   0.0   0.0   \n",
            "1999    0.0        0.0      0.0  0.0        0.0       0.0  0.0   1.0   0.0   \n",
            "\n",
            "      talk_time  three_g  touch_screen  wifi  \n",
            "0           0.0      0.0           0.0   1.0  \n",
            "1           0.0      1.0           1.0   0.0  \n",
            "2           0.0      1.0           1.0   0.0  \n",
            "3           0.0      1.0           0.0   0.0  \n",
            "4           0.0      1.0           1.0   0.0  \n",
            "...         ...      ...           ...   ...  \n",
            "1995        0.0      1.0           1.0   0.0  \n",
            "1996        0.0      1.0           1.0   1.0  \n",
            "1997        0.0      1.0           1.0   0.0  \n",
            "1998        0.0      1.0           1.0   1.0  \n",
            "1999        0.0      1.0           1.0   1.0  \n",
            "\n",
            "[2000 rows x 20 columns]\n"
          ]
        }
      ]
    },
    {
      "cell_type": "code",
      "source": [
        "from sklearn.model_selection import train_test_split\n",
        "x_train, x_test, y_train, y_test = train_test_split(xx, y, test_size=0.2, random_state=30)"
      ],
      "metadata": {
        "id": "CZmJLu05az_v"
      },
      "execution_count": 28,
      "outputs": []
    },
    {
      "cell_type": "code",
      "source": [
        "print(x_train)\n",
        "print(x_test)\n",
        "print(y_train)\n",
        "print(y_test)"
      ],
      "metadata": {
        "colab": {
          "base_uri": "https://localhost:8080/"
        },
        "id": "AAqvbuEzcTJF",
        "outputId": "c946d386-cde1-4a68-9bf6-4dfc1ec13b19"
      },
      "execution_count": 29,
      "outputs": [
        {
          "output_type": "stream",
          "name": "stdout",
          "text": [
            "      battery_power  blue  clock_speed  dual_sim   fc  four_g  int_memory  \\\n",
            "1572            0.0   0.0          0.0       1.0  0.0     0.0         0.0   \n",
            "1442            0.0   0.0          0.0       1.0  0.0     0.0         0.0   \n",
            "1516            0.0   1.0          0.0       1.0  0.0     1.0         0.0   \n",
            "259             0.0   1.0          0.0       1.0  0.0     1.0         0.0   \n",
            "945             0.0   0.0          0.0       0.0  0.0     1.0         0.0   \n",
            "...             ...   ...          ...       ...  ...     ...         ...   \n",
            "500             0.0   1.0          0.0       1.0  0.0     0.0         0.0   \n",
            "1837            0.0   0.0          0.0       1.0  0.0     1.0         0.0   \n",
            "941             0.0   0.0          0.0       1.0  0.0     1.0         0.0   \n",
            "421             0.0   0.0          0.0       1.0  0.0     0.0         0.0   \n",
            "1829            0.0   0.0          0.0       1.0  0.0     1.0         0.0   \n",
            "\n",
            "      m_dep  mobile_wt  n_cores   pc  px_height  px_width  ram  sc_h  sc_w  \\\n",
            "1572    0.0        0.0      1.0  0.0        0.0       0.0  0.0   0.0   0.0   \n",
            "1442    0.0        0.0      0.0  0.0        0.0       0.0  0.0   0.0   0.0   \n",
            "1516    0.0        0.0      0.0  0.0        0.0       0.0  0.0   0.0   0.0   \n",
            "259     0.0        0.0      0.0  0.0        0.0       0.0  0.0   0.0   0.0   \n",
            "945     0.0        0.0      0.0  0.0        0.0       0.0  0.0   0.0   0.0   \n",
            "...     ...        ...      ...  ...        ...       ...  ...   ...   ...   \n",
            "500     0.0        0.0      1.0  0.0        0.0       0.0  0.0   0.0   0.0   \n",
            "1837    0.0        0.0      0.0  0.0        0.0       0.0  0.0   0.0   0.0   \n",
            "941     0.0        0.0      0.0  0.0        0.0       0.0  0.0   1.0   0.0   \n",
            "421     0.0        0.0      0.0  0.0        0.0       0.0  0.0   0.0   0.0   \n",
            "1829    0.0        0.0      0.0  0.0        0.0       0.0  0.0   0.0   0.0   \n",
            "\n",
            "      talk_time  three_g  touch_screen  wifi  \n",
            "1572        0.0      0.0           0.0   1.0  \n",
            "1442        0.0      0.0           1.0   0.0  \n",
            "1516        0.0      1.0           0.0   0.0  \n",
            "259         0.0      1.0           1.0   1.0  \n",
            "945         0.0      1.0           1.0   0.0  \n",
            "...         ...      ...           ...   ...  \n",
            "500         1.0      0.0           0.0   1.0  \n",
            "1837        0.0      1.0           0.0   1.0  \n",
            "941         0.0      1.0           0.0   0.0  \n",
            "421         0.0      1.0           1.0   0.0  \n",
            "1829        0.0      1.0           0.0   0.0  \n",
            "\n",
            "[1600 rows x 20 columns]\n",
            "      battery_power  blue  clock_speed  dual_sim   fc  four_g  int_memory  \\\n",
            "1856            0.0   0.0          0.0       0.0  0.0     0.0         0.0   \n",
            "364             0.0   1.0          0.0       0.0  0.0     0.0         0.0   \n",
            "1948            0.0   0.0          0.0       0.0  0.0     0.0         0.0   \n",
            "1458            0.0   0.0          0.0       0.0  0.0     1.0         0.0   \n",
            "609             0.0   0.0          0.0       0.0  0.0     1.0         0.0   \n",
            "...             ...   ...          ...       ...  ...     ...         ...   \n",
            "1163            0.0   1.0          0.0       0.0  0.0     0.0         0.0   \n",
            "572             0.0   1.0          0.0       0.0  0.0     1.0         0.0   \n",
            "1105            0.0   1.0          0.0       1.0  0.0     0.0         0.0   \n",
            "1903            0.0   1.0          0.0       0.0  0.0     0.0         0.0   \n",
            "481             0.0   1.0          0.0       0.0  0.0     1.0         0.0   \n",
            "\n",
            "      m_dep  mobile_wt  n_cores   pc  px_height  px_width  ram  sc_h  sc_w  \\\n",
            "1856    1.0        0.0      0.0  0.0        0.0       0.0  0.0   0.0   0.0   \n",
            "364     0.0        0.0      0.0  0.0        0.0       0.0  0.0   0.0   0.0   \n",
            "1948    1.0        0.0      0.0  0.0        0.0       0.0  0.0   0.0   0.0   \n",
            "1458    0.0        0.0      0.0  1.0        0.0       0.0  0.0   0.0   0.0   \n",
            "609     0.0        0.0      0.0  0.0        0.0       0.0  0.0   0.0   0.0   \n",
            "...     ...        ...      ...  ...        ...       ...  ...   ...   ...   \n",
            "1163    0.0        0.0      1.0  0.0        0.0       0.0  0.0   0.0   0.0   \n",
            "572     0.0        0.0      0.0  0.0        0.0       0.0  0.0   0.0   0.0   \n",
            "1105    0.0        0.0      0.0  0.0        0.0       0.0  0.0   0.0   0.0   \n",
            "1903    1.0        0.0      0.0  0.0        0.0       0.0  0.0   0.0   0.0   \n",
            "481     0.0        0.0      0.0  0.0        0.0       0.0  0.0   0.0   0.0   \n",
            "\n",
            "      talk_time  three_g  touch_screen  wifi  \n",
            "1856        0.0      1.0           0.0   0.0  \n",
            "364         0.0      0.0           1.0   0.0  \n",
            "1948        0.0      0.0           1.0   1.0  \n",
            "1458        0.0      1.0           0.0   0.0  \n",
            "609         0.0      1.0           1.0   1.0  \n",
            "...         ...      ...           ...   ...  \n",
            "1163        0.0      0.0           0.0   1.0  \n",
            "572         0.0      1.0           1.0   0.0  \n",
            "1105        0.0      0.0           0.0   0.0  \n",
            "1903        0.0      0.0           0.0   1.0  \n",
            "481         0.0      1.0           1.0   0.0  \n",
            "\n",
            "[400 rows x 20 columns]\n",
            "1572    2\n",
            "1442    1\n",
            "1516    1\n",
            "259     3\n",
            "945     3\n",
            "       ..\n",
            "500     0\n",
            "1837    1\n",
            "941     0\n",
            "421     2\n",
            "1829    0\n",
            "Name: price_range, Length: 1600, dtype: int64\n",
            "1856    3\n",
            "364     0\n",
            "1948    1\n",
            "1458    1\n",
            "609     2\n",
            "       ..\n",
            "1163    2\n",
            "572     3\n",
            "1105    0\n",
            "1903    2\n",
            "481     3\n",
            "Name: price_range, Length: 400, dtype: int64\n"
          ]
        }
      ]
    },
    {
      "cell_type": "code",
      "source": [],
      "metadata": {
        "id": "r4cWgtfQdJeI"
      },
      "execution_count": null,
      "outputs": []
    }
  ]
}